{
 "cells": [
  {
   "cell_type": "code",
   "execution_count": null,
   "id": "a71efc9c",
   "metadata": {},
   "outputs": [],
   "source": [
    "%load_ext autoreload\n",
    "%autoreload 2"
   ]
  },
  {
   "cell_type": "code",
   "execution_count": null,
   "id": "4fb29cfa",
   "metadata": {},
   "outputs": [],
   "source": [
    "import os, sys, shutil, subprocess\n",
    "import jsonlines\n",
    "import numpy as np\n",
    "import pandas as pd\n",
    "from joblib import Parallel, delayed"
   ]
  },
  {
   "cell_type": "code",
   "execution_count": null,
   "id": "ccb049ac",
   "metadata": {},
   "outputs": [],
   "source": [
    "from verilator_coverage_src import *"
   ]
  },
  {
   "cell_type": "code",
   "execution_count": null,
   "id": "b1f1a944",
   "metadata": {},
   "outputs": [],
   "source": []
  },
  {
   "cell_type": "code",
   "execution_count": null,
   "id": "dbf7e510",
   "metadata": {},
   "outputs": [],
   "source": [
    "# load dataset from Olivia\n",
    "o100data = load_jsonl(\"/mnt/shared/gpfs/escad_verilog_dataset/verilator_coverage_jinghua/manual_tb.jsonl\")"
   ]
  },
  {
   "cell_type": "code",
   "execution_count": null,
   "id": "6536034e",
   "metadata": {},
   "outputs": [],
   "source": [
    "# load big dataset from Manvi\n",
    "o312kdata = load_jsonl(\"/mnt/shared/gpfs/escad_verilog_dataset/verilator_coverage_jinghua/tb_dataset/with_keys_312k_sep_5.jsonl\")"
   ]
  },
  {
   "cell_type": "code",
   "execution_count": null,
   "id": "67f91aa7",
   "metadata": {},
   "outputs": [],
   "source": [
    "OVERALL_FOLDER = \"/mnt/shared/gpfs/escad_verilog_dataset/verilator_coverage_jinghua/run_results_2025-10-10\"\n",
    "\n",
    "# need to load verilator container image before running \"run_verilator\"\n",
    "init_verilator_env()\n",
    "\n",
    "# run all modules and generate coverage reports\n",
    "all_res = []\n",
    "for i in tqdm(range(len(o100data))):\n",
    "    _tmp_dir = os.path.join(OVERALL_FOLDER, \"O100_manual_\"+str(i))\n",
    "    if os.path.isdir(_tmp_dir):\n",
    "        continue\n",
    "    _modules_list = [o100data[i]['full_text']]\n",
    "    _modules_list.extend( find_all_dependency_modules(data_list=o312kdata, starting_index_list=[o100data[i]['index']]) )\n",
    "    _modules_list = list(set(_modules_list))\n",
    "    all_res.append( run_verilator(modules_full_code_list=_modules_list, tmp_dir=_tmp_dir,\n",
    "                                 force_rerun=False, timeout_seconds=120) )"
   ]
  },
  {
   "cell_type": "code",
   "execution_count": null,
   "id": "0f948969",
   "metadata": {
    "scrolled": false
   },
   "outputs": [],
   "source": [
    "report_count = 0\n",
    "for d in sorted(os.listdir(OVERALL_FOLDER), key=lambda x: int(x.split(\"_\")[-1])):\n",
    "    try:\n",
    "        res_list = parse_coverage_log(os.path.join(OVERALL_FOLDER, d, \"obj_dir/coverage.dat\"))\n",
    "#         print(d)\n",
    "        print(d, \"   \", np.sum(res_list), \"    \", np.mean(res_list), \"    \", np.max(res_list))\n",
    "#         print()\n",
    "        report_count += 1\n",
    "    except:\n",
    "        pass"
   ]
  },
  {
   "cell_type": "code",
   "execution_count": null,
   "id": "3fc10f96",
   "metadata": {},
   "outputs": [],
   "source": [
    "report_count"
   ]
  },
  {
   "cell_type": "code",
   "execution_count": null,
   "id": "0c9603cb",
   "metadata": {},
   "outputs": [],
   "source": []
  },
  {
   "cell_type": "code",
   "execution_count": null,
   "id": "32706c0a",
   "metadata": {},
   "outputs": [],
   "source": []
  },
  {
   "cell_type": "code",
   "execution_count": null,
   "id": "ec3df998",
   "metadata": {},
   "outputs": [],
   "source": []
  },
  {
   "cell_type": "code",
   "execution_count": null,
   "id": "7592ab3b",
   "metadata": {},
   "outputs": [],
   "source": []
  }
 ],
 "metadata": {
  "kernelspec": {
   "display_name": "Python 3 (ipykernel)",
   "language": "python",
   "name": "python3"
  },
  "language_info": {
   "codemirror_mode": {
    "name": "ipython",
    "version": 3
   },
   "file_extension": ".py",
   "mimetype": "text/x-python",
   "name": "python",
   "nbconvert_exporter": "python",
   "pygments_lexer": "ipython3",
   "version": "3.8.19"
  }
 },
 "nbformat": 4,
 "nbformat_minor": 5
}
